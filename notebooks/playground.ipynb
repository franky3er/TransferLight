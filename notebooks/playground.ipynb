{
 "cells": [
  {
   "cell_type": "code",
   "execution_count": 1,
   "id": "initial_id",
   "metadata": {
    "collapsed": true,
    "ExecuteTime": {
     "end_time": "2023-09-27T13:42:10.232767366Z",
     "start_time": "2023-09-27T13:42:08.839625716Z"
    }
   },
   "outputs": [],
   "source": [
    "from typing import List\n",
    "\n",
    "import torch\n",
    "import matplotlib.pyplot as plt"
   ]
  },
  {
   "cell_type": "code",
   "execution_count": 40,
   "outputs": [],
   "source": [
    "def sinusoidal_positional_encoding(pos: torch.LongTensor, dim: int, scalar: int = 10_000):\n",
    "    assert dim % 2 == 0\n",
    "    device = pos.get_device()\n",
    "    device = \"cpu\" if device < 0 else device\n",
    "    pos = pos.unsqueeze(-1).expand(-1, dim)\n",
    "    k = (torch.arange(start=0, end=dim / 2, device=device).unsqueeze(-1) + 1).expand(-1, 2).reshape(1, -1)\n",
    "    w_k = 1 / (scalar ** ((2 * k) / dim))\n",
    "    i = torch.arange(start=0, end=dim, device=device).unsqueeze(0)\n",
    "    even = i % 2 == 0\n",
    "    uneven = i % 2 == 1\n",
    "    return even * torch.sin(w_k * pos) + uneven * torch.cos(w_k * pos)"
   ],
   "metadata": {
    "collapsed": false,
    "ExecuteTime": {
     "end_time": "2023-09-27T14:37:14.527624166Z",
     "start_time": "2023-09-27T14:37:14.502969014Z"
    }
   },
   "id": "e8155feb67accf40"
  },
  {
   "cell_type": "code",
   "execution_count": 70,
   "outputs": [],
   "source": [
    "pe = sinusoidal_positional_encoding(torch.arange(start=0, end=100), 16)"
   ],
   "metadata": {
    "collapsed": false,
    "ExecuteTime": {
     "end_time": "2023-09-27T15:51:27.682440502Z",
     "start_time": "2023-09-27T15:51:27.674510958Z"
    }
   },
   "id": "6487416edaaa8ccc"
  },
  {
   "cell_type": "code",
   "execution_count": 71,
   "outputs": [
    {
     "data": {
      "text/plain": "<matplotlib.image.AxesImage at 0x7fb672c42500>"
     },
     "execution_count": 71,
     "metadata": {},
     "output_type": "execute_result"
    },
    {
     "data": {
      "text/plain": "<Figure size 640x480 with 1 Axes>",
      "image/png": "[encoded data removed]"
     },
     "metadata": {},
     "output_type": "display_data"
    }
   ],
   "source": [
    "fig, ax = plt.subplots()\n",
    "ax.imshow(pe.T)"
   ],
   "metadata": {
    "collapsed": false,
    "ExecuteTime": {
     "end_time": "2023-09-27T15:51:28.173141082Z",
     "start_time": "2023-09-27T15:51:28.077772926Z"
    }
   },
   "id": "9c8f62ddc710a7ec"
  },
  {
   "cell_type": "code",
   "execution_count": 33,
   "outputs": [],
   "source": [
    "    "
   ],
   "metadata": {
    "collapsed": false,
    "ExecuteTime": {
     "end_time": "2023-09-27T14:02:13.028503538Z",
     "start_time": "2023-09-27T14:02:13.009757447Z"
    }
   },
   "id": "e95329f86bff134e"
  }
 ],
 "metadata": {
  "kernelspec": {
   "display_name": "Python 3",
   "language": "python",
   "name": "python3"
  },
  "language_info": {
   "codemirror_mode": {
    "name": "ipython",
    "version": 2
   },
   "file_extension": ".py",
   "mimetype": "text/x-python",
   "name": "python",
   "nbconvert_exporter": "python",
   "pygments_lexer": "ipython2",
   "version": "2.7.6"
  }
 },
 "nbformat": 4,
 "nbformat_minor": 5
}
